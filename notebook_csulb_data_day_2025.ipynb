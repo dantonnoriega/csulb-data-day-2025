{
  "nbformat": 4,
  "nbformat_minor": 0,
  "metadata": {
    "colab": {
      "provenance": [],
      "authorship_tag": "ABX9TyMXZGYVAhNgeWnW7Y6cilhn",
      "include_colab_link": true
    },
    "kernelspec": {
      "name": "python3",
      "display_name": "Python 3"
    },
    "language_info": {
      "name": "python"
    }
  },
  "cells": [
    {
      "cell_type": "markdown",
      "metadata": {
        "id": "view-in-github",
        "colab_type": "text"
      },
      "source": [
        "<a href=\"https://colab.research.google.com/github/dantonnoriega/csulb-data-day-2025/blob/main/notebook_csulb_data_day_2025.ipynb\" target=\"_parent\"><img src=\"https://colab.research.google.com/assets/colab-badge.svg\" alt=\"Open In Colab\"/></a>"
      ]
    },
    {
      "cell_type": "markdown",
      "source": [
        "# CSULB Data Day 2025\n",
        "*(Danton's Break Out Session)*\n",
        "\n",
        "\n",
        "**Motivating Questions**\n",
        "> Which compute instance profile strategy (`cost_efficient`, `balanced`, `performance`) would you recommend for each compute request scenarios (`low`, `normal`, `high`)?\n",
        "\n",
        "> What if you could choose only one strategy?\n",
        "\n",
        "### Learning Goals\n",
        "\n",
        "* **Exposure to industry-inspired questions** about the cost and usage of compute infrastructure\n",
        "* **Work with relevant data** (albiet simplified and simulated) virtually all tech companies are analyzing\n",
        "* **Practice coding with AI** and understanding the trade-offs and pitfalls\n",
        "  * AI Assistants are good enough that one can now \"vibecode\" (code using English)\n",
        "  * This is *adventagous* for experienced data scientist but *can be disadvantagous* to newer ones\n",
        "* **Learn about [`polars`](https://docs.pola.rs/api/python/stable/reference/index.html) and [`Claude AI`](https://claude.ai)**, my favorite package for working with data frames and my favorite AI assistant!"
      ],
      "metadata": {
        "id": "21gSIIQHK2YM"
      }
    },
    {
      "cell_type": "code",
      "execution_count": 1,
      "metadata": {
        "collapsed": true,
        "id": "ZBDt7s7TGQT-"
      },
      "outputs": [],
      "source": [
        "# GOAL:\n",
        "# - find the best instance allocation strategy for each request scenario: low, normal, high\n",
        "\n",
        "# General Set Up\n",
        "import polars as pl\n",
        "import plotnine as p9"
      ]
    },
    {
      "cell_type": "code",
      "source": [
        "# prompt: read in a csv as `scenarios_df` with polars from a public repo url: `https://github.com/dantonnoriega/csulb-data-day-2025/blob/main/data/compute_request_scenarios.csv`\n",
        "# tip: try_parse_dates=True\n",
        "\n",
        "scenarios_df = pl.read_csv(\"https://raw.githubusercontent.com/dantonnoriega/csulb-data-day-2025/main/data/compute_request_scenarios.csv\", try_parse_dates=True)\n",
        "print(scenarios_df)"
      ],
      "metadata": {
        "colab": {
          "base_uri": "https://localhost:8080/"
        },
        "id": "5kiUpJh0G1dw",
        "outputId": "7fa3b528-29f2-48f8-9c1d-66030679c47c"
      },
      "execution_count": 2,
      "outputs": [
        {
          "output_type": "stream",
          "name": "stdout",
          "text": [
            "shape: (13_032, 3)\n",
            "┌─────────────────────┬──────────┬──────────┐\n",
            "│ datetime            ┆ scenario ┆ requests │\n",
            "│ ---                 ┆ ---      ┆ ---      │\n",
            "│ datetime[μs]        ┆ str      ┆ i64      │\n",
            "╞═════════════════════╪══════════╪══════════╡\n",
            "│ 2023-01-01 00:00:00 ┆ normal   ┆ 2519     │\n",
            "│ 2023-01-01 01:00:00 ┆ normal   ┆ 1577     │\n",
            "│ 2023-01-01 02:00:00 ┆ normal   ┆ 1277     │\n",
            "│ 2023-01-01 03:00:00 ┆ normal   ┆ 921      │\n",
            "│ 2023-01-01 04:00:00 ┆ normal   ┆ 781      │\n",
            "│ …                   ┆ …        ┆ …        │\n",
            "│ 2023-06-30 19:00:00 ┆ low      ┆ 14314    │\n",
            "│ 2023-06-30 20:00:00 ┆ low      ┆ 14153    │\n",
            "│ 2023-06-30 21:00:00 ┆ low      ┆ 11300    │\n",
            "│ 2023-06-30 22:00:00 ┆ low      ┆ 11039    │\n",
            "│ 2023-06-30 23:00:00 ┆ low      ┆ 8149     │\n",
            "└─────────────────────┴──────────┴──────────┘\n"
          ]
        }
      ]
    },
    {
      "cell_type": "markdown",
      "source": [
        "\n",
        "\n",
        "```\n",
        "# prompt: add a \"year-month\" column `ym` using column `datetime` to data frame `scenarios_df`\n",
        "```\n",
        "\n"
      ],
      "metadata": {
        "id": "sIJGiLiPHYZv"
      }
    },
    {
      "cell_type": "code",
      "source": [],
      "metadata": {
        "id": "A4PLgUvcKPmR"
      },
      "execution_count": 2,
      "outputs": []
    },
    {
      "cell_type": "markdown",
      "source": [
        "```\n",
        "# prompt: reorder columns in `scenarios_df` as `datetime`, `ym`, `scenario`, `requests`\n",
        "```"
      ],
      "metadata": {
        "id": "0YILLn6fHfS-"
      }
    },
    {
      "cell_type": "code",
      "source": [],
      "metadata": {
        "id": "qtiL4dTu7LVk"
      },
      "execution_count": 2,
      "outputs": []
    },
    {
      "cell_type": "markdown",
      "source": [
        "```\n",
        "# prompt: sum `requests` by `ym` and `scenario`, sort, then save as object `scenarios_by_ym_df\n",
        "```"
      ],
      "metadata": {
        "id": "_p1L5fku5U2G"
      }
    },
    {
      "cell_type": "code",
      "source": [],
      "metadata": {
        "id": "4ujLN2lSIOs7"
      },
      "execution_count": 2,
      "outputs": []
    },
    {
      "cell_type": "markdown",
      "source": [
        "```\n",
        "# prompt: use polars `.sql` to sum `requests` in dataframe `scenarios_df` grouped by `ym` and `scenario`, sort, then save as object `scenarios_by_ym_df`\n",
        "# !!! (edits likely required)\n",
        "```\n"
      ],
      "metadata": {
        "id": "P0zOi5yfT8yr"
      }
    },
    {
      "cell_type": "code",
      "source": [],
      "metadata": {
        "id": "etw6FabjIPPK"
      },
      "execution_count": 2,
      "outputs": []
    },
    {
      "cell_type": "markdown",
      "source": [
        "```\n",
        "# prompt: create a bar plot with x = \"ym\" and y = \"requests\" grouped by \"scenario\" using dataframe `scenarios_by_ym_df` with minimal theme\n",
        "```\n"
      ],
      "metadata": {
        "id": "bqQsKb6GFv5K"
      }
    },
    {
      "cell_type": "code",
      "source": [],
      "metadata": {
        "id": "C2x8XDKoITWv"
      },
      "execution_count": 2,
      "outputs": []
    },
    {
      "cell_type": "markdown",
      "source": [
        "```\n",
        "# prompt: filter data frame `scenarios_df` to the first week of data then create a line plot using plotnine grouped by `scenario` with x = \"datetime\" and y = \"requests\"\n",
        "```"
      ],
      "metadata": {
        "id": "iYN9ZxkHx54V"
      }
    },
    {
      "cell_type": "code",
      "source": [],
      "metadata": {
        "id": "i3YqJuNIIXid"
      },
      "execution_count": null,
      "outputs": []
    },
    {
      "cell_type": "markdown",
      "source": [
        "## Determine Allocations (Challenge)"
      ],
      "metadata": {
        "id": "0pFd0XJV4Zis"
      }
    },
    {
      "cell_type": "code",
      "source": [
        "# Instance Allocation Strategies ----------------------\n",
        "\n",
        "# Strategy 1: Cost Efficiency - Many smaller instances\n",
        "cost_efficiency_allocation = {\n",
        "    \"micro\": 25,\n",
        "    \"small\": 20,\n",
        "    \"medium\": 17,\n",
        "    \"large\": 6,\n",
        "    \"xlarge\": 1\n",
        "}\n",
        "\n",
        "# Strategy 2: Performance - Fewer, more powerful instances\n",
        "performance_allocation = {\n",
        "    \"micro\": 0,\n",
        "    \"small\": 0,\n",
        "    \"medium\": 0,\n",
        "    \"large\": 6,\n",
        "    \"xlarge\": 15\n",
        "}\n",
        "\n",
        "# Strategy 3: Balanced - Mix of instance types\n",
        "balanced_allocation = {\n",
        "    \"micro\": 10,\n",
        "    \"small\": 15,\n",
        "    \"medium\": 8,\n",
        "    \"large\": 5,\n",
        "    \"xlarge\": 7\n",
        "}"
      ],
      "metadata": {
        "id": "8J7c9VHtq8_Z"
      },
      "execution_count": null,
      "outputs": []
    },
    {
      "cell_type": "code",
      "source": [
        "# instruction (try not to use AI here):\n",
        "## - read the csv file at https://github.com/dantonnoriega/csulb-data-day-2025/blob/main/data/compute_instance_profiles.csv\n",
        "## - to object named `instances_df` and print it\n",
        "\n",
        "\n",
        "# [WRITE YOUR CODE HERE]\n"
      ],
      "metadata": {
        "id": "K15VPMtI4Hwo"
      },
      "execution_count": 3,
      "outputs": []
    },
    {
      "cell_type": "markdown",
      "source": [
        "```\n",
        "# prompt: create a new polars dataframe with columns `strategy`, `hourly_capacity`, `hourly_cost` that iterates over dicts `cost_efficiency_allocation`, `performance_allocation`, `balanced_allocation` and matches keys to column `instance_type` in dataframe `instances_df` with columns `instance_type`, `requests_per_hour`, `cost_per_hour`\n",
        "# !!! (edits required)\n",
        "```"
      ],
      "metadata": {
        "id": "LZht6s4AIkJz"
      }
    },
    {
      "cell_type": "code",
      "source": [],
      "metadata": {
        "id": "VdPdtXyV4I0L"
      },
      "execution_count": null,
      "outputs": []
    },
    {
      "cell_type": "markdown",
      "source": [
        "```\n",
        "# prompt: filter data frame `scenarios_df` to the second month of data then create a line plot using plotnine grouped by `scenario` with x = \"datetime\" and y = \"requests\". finally, layer in horizontal lines where y = \"hourly_capacity\" grouped by `strategy`\n",
        "# !!! (edits required)\n",
        "```"
      ],
      "metadata": {
        "id": "bhLNUawlIqX7"
      }
    },
    {
      "cell_type": "code",
      "source": [],
      "metadata": {
        "id": "Ptn9CoIaKuBV"
      },
      "execution_count": null,
      "outputs": []
    },
    {
      "cell_type": "markdown",
      "source": [
        "```\n",
        "# prompt: determine the overall `service_rate = 1 - (unserved_requests / total_requests)` for each strategy and scenario, where `unserved_requests` are all hourly requests above `hourly_capacity` and zero otherwise\n",
        "# !!! (edits required)\n",
        "```\n"
      ],
      "metadata": {
        "id": "H6ApYvOHHecU"
      }
    },
    {
      "cell_type": "code",
      "source": [],
      "metadata": {
        "id": "KOTpFfwpKuhs"
      },
      "execution_count": null,
      "outputs": []
    },
    {
      "cell_type": "markdown",
      "source": [
        "## Solution"
      ],
      "metadata": {
        "id": "13UfrJ6OSwuw"
      }
    },
    {
      "cell_type": "code",
      "source": [
        "import polars as pl\n",
        "import io\n",
        "\n",
        "# Paste your CSV data here\n",
        "csv_data = \"\"\"scenario,strategy,service_rate\n",
        "high,balanced,0.9548\n",
        "high,cost_efficiency,0.8402\n",
        "high,performance,0.9912\n",
        "low,balanced,1.0\n",
        "low,cost_efficiency,0.9999\n",
        "low,performance,1.0\n",
        "normal,balanced,0.9999\n",
        "normal,cost_efficiency,0.98\n",
        "normal,performance,1.0\n",
        "\"\"\"\n",
        "\n",
        "# Create a BytesIO object from the string\n",
        "csv_file = io.StringIO(csv_data)\n",
        "\n",
        "# Read the CSV data into a Polars DataFrame\n",
        "service_rate_df = pl.read_csv(csv_file)\n",
        "print(service_rate_df.sort(['strategy','scenario']))"
      ],
      "metadata": {
        "colab": {
          "base_uri": "https://localhost:8080/"
        },
        "id": "Zh2jUzOgNjmT",
        "outputId": "43cba2cd-6f75-42f3-a48d-9673c98eff57"
      },
      "execution_count": 3,
      "outputs": [
        {
          "output_type": "stream",
          "name": "stdout",
          "text": [
            "shape: (9, 3)\n",
            "┌──────────┬─────────────────┬──────────────┐\n",
            "│ scenario ┆ strategy        ┆ service_rate │\n",
            "│ ---      ┆ ---             ┆ ---          │\n",
            "│ str      ┆ str             ┆ f64          │\n",
            "╞══════════╪═════════════════╪══════════════╡\n",
            "│ high     ┆ balanced        ┆ 0.9548       │\n",
            "│ low      ┆ balanced        ┆ 1.0          │\n",
            "│ normal   ┆ balanced        ┆ 0.9999       │\n",
            "│ high     ┆ cost_efficiency ┆ 0.8402       │\n",
            "│ low      ┆ cost_efficiency ┆ 0.9999       │\n",
            "│ normal   ┆ cost_efficiency ┆ 0.98         │\n",
            "│ high     ┆ performance     ┆ 0.9912       │\n",
            "│ low      ┆ performance     ┆ 1.0          │\n",
            "│ normal   ┆ performance     ┆ 1.0          │\n",
            "└──────────┴─────────────────┴──────────────┘\n"
          ]
        }
      ]
    },
    {
      "cell_type": "code",
      "source": [],
      "metadata": {
        "id": "cuguV-TZWQEg"
      },
      "execution_count": null,
      "outputs": []
    }
  ]
}